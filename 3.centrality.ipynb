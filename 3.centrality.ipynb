{
 "cells": [
  {
   "cell_type": "code",
   "execution_count": 9,
   "metadata": {},
   "outputs": [],
   "source": [
    "import networkx as nx\n",
    "import pandas as pd "
   ]
  },
  {
   "cell_type": "code",
   "execution_count": 10,
   "metadata": {},
   "outputs": [],
   "source": [
    "#  City data for calculating centrality measures\n",
    "data = [\n",
    "    (\"Oradea\", \"Zerind\", 71), (\"Zerind\", \"Arad\", 75), (\"Arad\", \"Timisoara\", 118),\n",
    "    (\"Timisoara\", \"Lugoj\", 111), (\"Lugoj\", \"Mehadia\", 70), (\"Mehadia\", \"Drobeta\", 75),\n",
    "    (\"Drobeta\", \"Craiova\", 120), (\"Craiova\", \"Pitesti\", 138), (\"Pitesti\", \"Bucharest\", 101),\n",
    "    (\"Bucharest\", \"Giurgiu\", 90), (\"Bucharest\", \"Urziceni\", 85), (\"Urziceni\", \"Hirsova\", 98),\n",
    "    (\"Hirsova\", \"Eforie\", 86), (\"Urziceni\", \"Vaslui\", 142), (\"Vaslui\", \"Iasi\", 92),\n",
    "    (\"Iasi\", \"Neamt\", 87), (\"Oradea\", \"Sibiu\", 151), (\"Sibiu\", \"Fagaras\", 99),\n",
    "    (\"Fagaras\", \"Bucharest\", 211), (\"Arad\", \"Sibiu\", 140), (\"Sibiu\", \"Rimnicu Vilcea\", 80),\n",
    "    (\"Rimnicu Vilcea\", \"Craiova\", 146), (\"Rimnicu Vilcea\", \"Pitesti\", 97)\n",
    "]\n"
   ]
  },
  {
   "cell_type": "code",
   "execution_count": 11,
   "metadata": {},
   "outputs": [],
   "source": [
    "graph = nx.Graph()\n",
    "\n",
    "for src, dest, weight in data:\n",
    "    graph.add_edge(src, dest, weight=int(weight))"
   ]
  },
  {
   "cell_type": "code",
   "execution_count": 25,
   "metadata": {},
   "outputs": [
    {
     "name": "stdout",
     "output_type": "stream",
     "text": [
      "\n",
      "Top 3 cities by Degree:\n",
      "              City    Degree\n",
      "17           Sibiu  0.210526\n",
      "9        Bucharest  0.210526\n",
      "19  Rimnicu Vilcea  0.157895\n",
      "\n",
      "Top 3 cities by Closeness:\n",
      "         City  Closeness\n",
      "9   Bucharest   0.380000\n",
      "8     Pitesti   0.358491\n",
      "17      Sibiu   0.351852\n",
      "\n",
      "Top 3 cities by Betweenness:\n",
      "         City  Betweenness\n",
      "9   Bucharest     0.539961\n",
      "11   Urziceni     0.444444\n",
      "17      Sibiu     0.350877\n",
      "\n",
      "Top 3 cities by Eigenvector:\n",
      "              City  Eigenvector\n",
      "19  Rimnicu Vilcea     0.404131\n",
      "17           Sibiu     0.397589\n",
      "8          Pitesti     0.389514\n",
      "\n",
      "Top 3 cities by Katz:\n",
      "              City      Katz\n",
      "17           Sibiu  0.262093\n",
      "9        Bucharest  0.259843\n",
      "19  Rimnicu Vilcea  0.244441\n",
      "\n",
      "Top 3 cities by PageRank:\n",
      "         City  PageRank\n",
      "9   Bucharest  0.086930\n",
      "17      Sibiu  0.080053\n",
      "11   Urziceni  0.071139\n"
     ]
    }
   ],
   "source": [
    "# Calculating various centralities\n",
    "degree_centrality = nx.degree_centrality(graph)  \n",
    "closeness_centrality = nx.closeness_centrality(graph)  \n",
    "betweenness_centrality = nx.betweenness_centrality(graph)  \n",
    "eigenvector_centrality = nx.eigenvector_centrality(graph, max_iter=1000)  \n",
    "katz_centrality = nx.katz_centrality(graph, max_iter=1000)  \n",
    "pagerank = nx.pagerank(graph)  \n",
    "\n",
    "\n",
    "# Prepare to display the top 5 cities for each centrality measure\n",
    "centralities = {\n",
    "    \"City\": list(graph.nodes()),\n",
    "    \"Degree\": [degree_centrality[node] for node in graph.nodes()],\n",
    "    \"Closeness\": [closeness_centrality[node] for node in graph.nodes()],\n",
    "    \"Betweenness\": [betweenness_centrality[node] for node in graph.nodes()],\n",
    "    \"Eigenvector\": [eigenvector_centrality[node] for node in graph.nodes()],\n",
    "    \"Katz\": [katz_centrality[node] for node in graph.nodes()],\n",
    "    \"PageRank\": [pagerank[node] for node in graph.nodes()]\n",
    "}\n",
    "\n",
    "\n",
    "centrality_df = pd.DataFrame(centralities)\n",
    "centrality_df = centrality_df.sort_values(\"Degree\", ascending=False)\n",
    "\n",
    "\n",
    "# Get the top 3 cities for each centrality measure\n",
    "top_cities = {}\n",
    "for centrality_name in centrality_df.columns[1:]:\n",
    "    top_cities[centrality_name] = centrality_df.sort_values(centrality_name, ascending=False).head(3)\n",
    "    \n",
    "# Display the top 3 cities for each centrality measure in a table\n",
    "for centrality_name, top_cities_df in top_cities.items():\n",
    "    print(f\"\\nTop 3 cities by {centrality_name}:\")\n",
    "    print(top_cities_df[[\"City\", centrality_name]])"
   ]
  },
  {
   "cell_type": "code",
   "execution_count": null,
   "metadata": {},
   "outputs": [],
   "source": []
  }
 ],
 "metadata": {
  "kernelspec": {
   "display_name": "Python 3",
   "language": "python",
   "name": "python3"
  },
  "language_info": {
   "codemirror_mode": {
    "name": "ipython",
    "version": 3
   },
   "file_extension": ".py",
   "mimetype": "text/x-python",
   "name": "python",
   "nbconvert_exporter": "python",
   "pygments_lexer": "ipython3",
   "version": "3.10.12"
  }
 },
 "nbformat": 4,
 "nbformat_minor": 2
}
