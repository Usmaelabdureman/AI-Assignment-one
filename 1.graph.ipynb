{
 "cells": [
  {
   "cell_type": "code",
   "execution_count": 29,
   "metadata": {},
   "outputs": [],
   "source": [
    "from search import Search\n",
    "from util import ReadFile"
   ]
  },
  {
   "cell_type": "code",
   "execution_count": 30,
   "metadata": {},
   "outputs": [],
   "source": [
    "\n",
    "class Graph:\n",
    "    def __init__(self):\n",
    "        self.adj_list = {}\n",
    "\n",
    "    def add_node(self, node):\n",
    "        if node not in self.adj_list:\n",
    "            self.adj_list[node] = {}\n",
    "\n",
    "    def add_edge(self, src, dest, weight):\n",
    "        if src not in self.adj_list:\n",
    "            self.adj_list[src] = {}\n",
    "        if dest not in self.adj_list:\n",
    "            self.adj_list[dest] = {}\n",
    "        self.adj_list[src][dest] = weight\n",
    "        self.adj_list[dest][src] = weight\n",
    "\n",
    "    def remove_node(self, node):\n",
    "        try:\n",
    "            adjacents = list(self.adj_list[node].keys())\n",
    "            del self.adj_list[node]\n",
    "            for neighbor in adjacents:\n",
    "                del self.adj_list[neighbor][node]\n",
    "            return f\"DELETED NODE := {node}\"\n",
    "        except KeyError:\n",
    "            print(\"Node not found.\")\n",
    "\n",
    "    def remove_edge(self, src, dest):\n",
    "        if src in self.adj_list and dest in self.adj_list[src]:\n",
    "            del self.adj_list[src][dest]\n",
    "            del self.adj_list[dest][src]\n",
    "            return f\"Deleted edge {dest} from {src}\"\n",
    "        else:\n",
    "            return False\n",
    "\n",
    "\n",
    "\n",
    "    def get_neighbors(self, node):\n",
    "        return self.adj_list.get(node, {})\n"
   ]
  },
  {
   "cell_type": "code",
   "execution_count": 31,
   "metadata": {},
   "outputs": [],
   "source": [
    "r = ReadFile()\n",
    "graph = Graph()\n",
    "file_path = \"cities_weight_data.txt\"\n",
    "r.load_data(graph, file_path)\n",
    "\n",
    "# Adding Nodes and edges\n",
    "graph.add_node(\"Addis Ababa\")\n",
    "graph.add_edge(\"Addis Ababa\",\"Adama\",100)\n",
    "graph.add_edge(\"Addis Ababa\",\"Holota\",120)\n"
   ]
  },
  {
   "cell_type": "code",
   "execution_count": 32,
   "metadata": {},
   "outputs": [
    {
     "name": "stdout",
     "output_type": "stream",
     "text": [
      "{'Adama': 100, 'Holota': 120}\n"
     ]
    }
   ],
   "source": [
    "print(graph.get_neighbors(\"Addis Ababa\"))"
   ]
  },
  {
   "cell_type": "code",
   "execution_count": 33,
   "metadata": {},
   "outputs": [
    {
     "name": "stdout",
     "output_type": "stream",
     "text": [
      "Deleted edge Holota from Addis Ababa\n"
     ]
    }
   ],
   "source": [
    "print(graph.remove_edge(\"Addis Ababa\", \"Holota\"))"
   ]
  },
  {
   "cell_type": "code",
   "execution_count": 34,
   "metadata": {},
   "outputs": [
    {
     "name": "stdout",
     "output_type": "stream",
     "text": [
      "{'Adama': 100}\n",
      "DELETED NODE := Addis Ababa\n",
      "DELETED NODE := Adama\n",
      "DELETED NODE := Holota\n"
     ]
    }
   ],
   "source": [
    "print(graph.get_neighbors(\"Addis Ababa\"))\n",
    "print(graph.remove_node(\"Addis Ababa\"))\n",
    "print(graph.remove_node(\"Adama\"))\n",
    "print(graph.remove_node(\"Holota\"))"
   ]
  },
  {
   "cell_type": "code",
   "execution_count": 35,
   "metadata": {},
   "outputs": [
    {
     "name": "stdout",
     "output_type": "stream",
     "text": [
      "['Drobeta', 'Craiova', 'RimnicuVilcea', 'Sibiu', 'Fagaras', 'Bucharest']\n",
      "['Drobeta', 'Craiova', 'Pitesti', 'Bucharest']\n"
     ]
    }
   ],
   "source": [
    "search = Search()\n",
    "print(search.dfs(graph,\"Drobeta\",\"Bucharest\"))\n",
    "print(search.bfs(graph,\"Drobeta\",\"Bucharest\"))"
   ]
  },
  {
   "cell_type": "code",
   "execution_count": 36,
   "metadata": {},
   "outputs": [
    {
     "name": "stdout",
     "output_type": "stream",
     "text": [
      "Oradea : {'Zerind': 71, 'Sibiu': 151}\n",
      "Zerind : {'Oradea': 71, 'Arad': 75}\n",
      "Arad : {'Zerind': 75, 'Timisoara': 118, 'Sibiu': 140}\n",
      "Timisoara : {'Arad': 118, 'Lugoj': 111}\n",
      "Lugoj : {'Timisoara': 111, 'Mehadia': 70}\n",
      "Mehadia : {'Lugoj': 70, 'Drobeta': 75}\n",
      "Drobeta : {'Mehadia': 75, 'Craiova': 120}\n",
      "Craiova : {'Drobeta': 120, 'Pitesti': 138, 'RimnicuVilcea': 146}\n",
      "Pitesti : {'Craiova': 138, 'Bucharest': 101, 'RimnicuVilcea': 97}\n",
      "Bucharest : {'Pitesti': 101, 'Giurgiu': 90, 'Urziceni': 85, 'Fagaras': 211}\n",
      "Giurgiu : {'Bucharest': 90}\n",
      "Urziceni : {'Bucharest': 85, 'Hirsova': 98, 'Vaslui': 142}\n",
      "Hirsova : {'Urziceni': 98, 'Eforie': 86}\n",
      "Eforie : {'Hirsova': 86}\n",
      "Vaslui : {'Urziceni': 142, 'Iasi': 92}\n",
      "Iasi : {'Vaslui': 92, 'Neamt': 87}\n",
      "Neamt : {'Iasi': 87}\n",
      "Sibiu : {'Oradea': 151, 'Fagaras': 99, 'Arad': 140, 'RimnicuVilcea': 80}\n",
      "Fagaras : {'Sibiu': 99, 'Bucharest': 211}\n",
      "RimnicuVilcea : {'Sibiu': 80, 'Craiova': 146, 'Pitesti': 97}\n"
     ]
    }
   ],
   "source": [
    "# display the graph\n",
    "def display_graph(graph):\n",
    "    for node in graph.adj_list:\n",
    "        print(f\"{node} : {graph.adj_list[node]}\")\n",
    "display_graph(graph)"
   ]
  }
 ],
 "metadata": {
  "kernelspec": {
   "display_name": "Python 3",
   "language": "python",
   "name": "python3"
  },
  "language_info": {
   "codemirror_mode": {
    "name": "ipython",
    "version": 3
   },
   "file_extension": ".py",
   "mimetype": "text/x-python",
   "name": "python",
   "nbconvert_exporter": "python",
   "pygments_lexer": "ipython3",
   "version": "3.10.12"
  }
 },
 "nbformat": 4,
 "nbformat_minor": 2
}
